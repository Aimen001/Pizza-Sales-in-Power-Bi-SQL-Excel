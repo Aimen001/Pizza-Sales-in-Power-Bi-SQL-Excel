{
 "cells": [
  {
   "cell_type": "code",
   "execution_count": 1,
   "metadata": {},
   "outputs": [],
   "source": [
    "import pandas as pd\n",
    "import numpy as np\n",
    "import matplotlib.pyplot as plt\n",
    "import seaborn as sns"
   ]
  },
  {
   "cell_type": "code",
   "execution_count": 2,
   "metadata": {},
   "outputs": [],
   "source": [
    "df = pd.read_csv('pizza_sales.csv')"
   ]
  },
  {
   "cell_type": "code",
   "execution_count": 3,
   "metadata": {},
   "outputs": [
    {
     "data": {
      "text/html": [
       "<div>\n",
       "<style scoped>\n",
       "    .dataframe tbody tr th:only-of-type {\n",
       "        vertical-align: middle;\n",
       "    }\n",
       "\n",
       "    .dataframe tbody tr th {\n",
       "        vertical-align: top;\n",
       "    }\n",
       "\n",
       "    .dataframe thead th {\n",
       "        text-align: right;\n",
       "    }\n",
       "</style>\n",
       "<table border=\"1\" class=\"dataframe\">\n",
       "  <thead>\n",
       "    <tr style=\"text-align: right;\">\n",
       "      <th></th>\n",
       "      <th>pizza_id</th>\n",
       "      <th>order_id</th>\n",
       "      <th>pizza_name_id</th>\n",
       "      <th>quantity</th>\n",
       "      <th>order_date</th>\n",
       "      <th>order_time</th>\n",
       "      <th>unit_price</th>\n",
       "      <th>total_price</th>\n",
       "      <th>pizza_size</th>\n",
       "      <th>pizza_category</th>\n",
       "      <th>pizza_ingredients</th>\n",
       "      <th>pizza_name</th>\n",
       "    </tr>\n",
       "  </thead>\n",
       "  <tbody>\n",
       "    <tr>\n",
       "      <th>0</th>\n",
       "      <td>1</td>\n",
       "      <td>1</td>\n",
       "      <td>hawaiian_m</td>\n",
       "      <td>1</td>\n",
       "      <td>01-01-2015</td>\n",
       "      <td>11:38:36</td>\n",
       "      <td>13.25</td>\n",
       "      <td>13.25</td>\n",
       "      <td>M</td>\n",
       "      <td>Classic</td>\n",
       "      <td>Sliced Ham, Pineapple, Mozzarella Cheese</td>\n",
       "      <td>The Hawaiian Pizza</td>\n",
       "    </tr>\n",
       "    <tr>\n",
       "      <th>1</th>\n",
       "      <td>2</td>\n",
       "      <td>2</td>\n",
       "      <td>classic_dlx_m</td>\n",
       "      <td>1</td>\n",
       "      <td>01-01-2015</td>\n",
       "      <td>11:57:40</td>\n",
       "      <td>16.00</td>\n",
       "      <td>16.00</td>\n",
       "      <td>M</td>\n",
       "      <td>Classic</td>\n",
       "      <td>Pepperoni, Mushrooms, Red Onions, Red Peppers,...</td>\n",
       "      <td>The Classic Deluxe Pizza</td>\n",
       "    </tr>\n",
       "    <tr>\n",
       "      <th>2</th>\n",
       "      <td>3</td>\n",
       "      <td>2</td>\n",
       "      <td>five_cheese_l</td>\n",
       "      <td>1</td>\n",
       "      <td>01-01-2015</td>\n",
       "      <td>11:57:40</td>\n",
       "      <td>18.50</td>\n",
       "      <td>18.50</td>\n",
       "      <td>L</td>\n",
       "      <td>Veggie</td>\n",
       "      <td>Mozzarella Cheese, Provolone Cheese, Smoked Go...</td>\n",
       "      <td>The Five Cheese Pizza</td>\n",
       "    </tr>\n",
       "    <tr>\n",
       "      <th>3</th>\n",
       "      <td>4</td>\n",
       "      <td>2</td>\n",
       "      <td>ital_supr_l</td>\n",
       "      <td>1</td>\n",
       "      <td>01-01-2015</td>\n",
       "      <td>11:57:40</td>\n",
       "      <td>20.75</td>\n",
       "      <td>20.75</td>\n",
       "      <td>L</td>\n",
       "      <td>Supreme</td>\n",
       "      <td>Calabrese Salami, Capocollo, Tomatoes, Red Oni...</td>\n",
       "      <td>The Italian Supreme Pizza</td>\n",
       "    </tr>\n",
       "    <tr>\n",
       "      <th>4</th>\n",
       "      <td>5</td>\n",
       "      <td>2</td>\n",
       "      <td>mexicana_m</td>\n",
       "      <td>1</td>\n",
       "      <td>01-01-2015</td>\n",
       "      <td>11:57:40</td>\n",
       "      <td>16.00</td>\n",
       "      <td>16.00</td>\n",
       "      <td>M</td>\n",
       "      <td>Veggie</td>\n",
       "      <td>Tomatoes, Red Peppers, Jalapeno Peppers, Red O...</td>\n",
       "      <td>The Mexicana Pizza</td>\n",
       "    </tr>\n",
       "    <tr>\n",
       "      <th>5</th>\n",
       "      <td>6</td>\n",
       "      <td>2</td>\n",
       "      <td>thai_ckn_l</td>\n",
       "      <td>1</td>\n",
       "      <td>01-01-2015</td>\n",
       "      <td>11:57:40</td>\n",
       "      <td>20.75</td>\n",
       "      <td>20.75</td>\n",
       "      <td>L</td>\n",
       "      <td>Chicken</td>\n",
       "      <td>Chicken, Pineapple, Tomatoes, Red Peppers, Tha...</td>\n",
       "      <td>The Thai Chicken Pizza</td>\n",
       "    </tr>\n",
       "    <tr>\n",
       "      <th>6</th>\n",
       "      <td>7</td>\n",
       "      <td>3</td>\n",
       "      <td>ital_supr_m</td>\n",
       "      <td>1</td>\n",
       "      <td>01-01-2015</td>\n",
       "      <td>12:12:28</td>\n",
       "      <td>16.50</td>\n",
       "      <td>16.50</td>\n",
       "      <td>M</td>\n",
       "      <td>Supreme</td>\n",
       "      <td>Calabrese Salami, Capocollo, Tomatoes, Red Oni...</td>\n",
       "      <td>The Italian Supreme Pizza</td>\n",
       "    </tr>\n",
       "    <tr>\n",
       "      <th>7</th>\n",
       "      <td>8</td>\n",
       "      <td>3</td>\n",
       "      <td>prsc_argla_l</td>\n",
       "      <td>1</td>\n",
       "      <td>01-01-2015</td>\n",
       "      <td>12:12:28</td>\n",
       "      <td>20.75</td>\n",
       "      <td>20.75</td>\n",
       "      <td>L</td>\n",
       "      <td>Supreme</td>\n",
       "      <td>Prosciutto di San Daniele, Arugula, Mozzarella...</td>\n",
       "      <td>The Prosciutto and Arugula Pizza</td>\n",
       "    </tr>\n",
       "    <tr>\n",
       "      <th>8</th>\n",
       "      <td>9</td>\n",
       "      <td>4</td>\n",
       "      <td>ital_supr_m</td>\n",
       "      <td>1</td>\n",
       "      <td>01-01-2015</td>\n",
       "      <td>12:16:31</td>\n",
       "      <td>16.50</td>\n",
       "      <td>16.50</td>\n",
       "      <td>M</td>\n",
       "      <td>Supreme</td>\n",
       "      <td>Calabrese Salami, Capocollo, Tomatoes, Red Oni...</td>\n",
       "      <td>The Italian Supreme Pizza</td>\n",
       "    </tr>\n",
       "    <tr>\n",
       "      <th>9</th>\n",
       "      <td>10</td>\n",
       "      <td>5</td>\n",
       "      <td>ital_supr_m</td>\n",
       "      <td>1</td>\n",
       "      <td>01-01-2015</td>\n",
       "      <td>12:21:30</td>\n",
       "      <td>16.50</td>\n",
       "      <td>16.50</td>\n",
       "      <td>M</td>\n",
       "      <td>Supreme</td>\n",
       "      <td>Calabrese Salami, Capocollo, Tomatoes, Red Oni...</td>\n",
       "      <td>The Italian Supreme Pizza</td>\n",
       "    </tr>\n",
       "    <tr>\n",
       "      <th>10</th>\n",
       "      <td>11</td>\n",
       "      <td>6</td>\n",
       "      <td>bbq_ckn_s</td>\n",
       "      <td>1</td>\n",
       "      <td>01-01-2015</td>\n",
       "      <td>12:29:36</td>\n",
       "      <td>12.75</td>\n",
       "      <td>12.75</td>\n",
       "      <td>S</td>\n",
       "      <td>Chicken</td>\n",
       "      <td>Barbecued Chicken, Red Peppers, Green Peppers,...</td>\n",
       "      <td>The Barbecue Chicken Pizza</td>\n",
       "    </tr>\n",
       "    <tr>\n",
       "      <th>11</th>\n",
       "      <td>12</td>\n",
       "      <td>6</td>\n",
       "      <td>the_greek_s</td>\n",
       "      <td>1</td>\n",
       "      <td>01-01-2015</td>\n",
       "      <td>12:29:36</td>\n",
       "      <td>12.00</td>\n",
       "      <td>12.00</td>\n",
       "      <td>S</td>\n",
       "      <td>Classic</td>\n",
       "      <td>Kalamata Olives, Feta Cheese, Tomatoes, Garlic...</td>\n",
       "      <td>The Greek Pizza</td>\n",
       "    </tr>\n",
       "    <tr>\n",
       "      <th>12</th>\n",
       "      <td>13</td>\n",
       "      <td>7</td>\n",
       "      <td>spinach_supr_s</td>\n",
       "      <td>1</td>\n",
       "      <td>01-01-2015</td>\n",
       "      <td>12:50:37</td>\n",
       "      <td>12.50</td>\n",
       "      <td>12.50</td>\n",
       "      <td>S</td>\n",
       "      <td>Supreme</td>\n",
       "      <td>Spinach, Red Onions, Pepperoni, Tomatoes, Arti...</td>\n",
       "      <td>The Spinach Supreme Pizza</td>\n",
       "    </tr>\n",
       "    <tr>\n",
       "      <th>13</th>\n",
       "      <td>14</td>\n",
       "      <td>8</td>\n",
       "      <td>spinach_supr_s</td>\n",
       "      <td>1</td>\n",
       "      <td>01-01-2015</td>\n",
       "      <td>12:51:37</td>\n",
       "      <td>12.50</td>\n",
       "      <td>12.50</td>\n",
       "      <td>S</td>\n",
       "      <td>Supreme</td>\n",
       "      <td>Spinach, Red Onions, Pepperoni, Tomatoes, Arti...</td>\n",
       "      <td>The Spinach Supreme Pizza</td>\n",
       "    </tr>\n",
       "    <tr>\n",
       "      <th>14</th>\n",
       "      <td>15</td>\n",
       "      <td>9</td>\n",
       "      <td>classic_dlx_s</td>\n",
       "      <td>1</td>\n",
       "      <td>01-01-2015</td>\n",
       "      <td>12:52:01</td>\n",
       "      <td>12.00</td>\n",
       "      <td>12.00</td>\n",
       "      <td>S</td>\n",
       "      <td>Classic</td>\n",
       "      <td>Pepperoni, Mushrooms, Red Onions, Red Peppers,...</td>\n",
       "      <td>The Classic Deluxe Pizza</td>\n",
       "    </tr>\n",
       "  </tbody>\n",
       "</table>\n",
       "</div>"
      ],
      "text/plain": [
       "    pizza_id  order_id   pizza_name_id  quantity  order_date order_time  \\\n",
       "0          1         1      hawaiian_m         1  01-01-2015   11:38:36   \n",
       "1          2         2   classic_dlx_m         1  01-01-2015   11:57:40   \n",
       "2          3         2   five_cheese_l         1  01-01-2015   11:57:40   \n",
       "3          4         2     ital_supr_l         1  01-01-2015   11:57:40   \n",
       "4          5         2      mexicana_m         1  01-01-2015   11:57:40   \n",
       "5          6         2      thai_ckn_l         1  01-01-2015   11:57:40   \n",
       "6          7         3     ital_supr_m         1  01-01-2015   12:12:28   \n",
       "7          8         3    prsc_argla_l         1  01-01-2015   12:12:28   \n",
       "8          9         4     ital_supr_m         1  01-01-2015   12:16:31   \n",
       "9         10         5     ital_supr_m         1  01-01-2015   12:21:30   \n",
       "10        11         6       bbq_ckn_s         1  01-01-2015   12:29:36   \n",
       "11        12         6     the_greek_s         1  01-01-2015   12:29:36   \n",
       "12        13         7  spinach_supr_s         1  01-01-2015   12:50:37   \n",
       "13        14         8  spinach_supr_s         1  01-01-2015   12:51:37   \n",
       "14        15         9   classic_dlx_s         1  01-01-2015   12:52:01   \n",
       "\n",
       "    unit_price  total_price pizza_size pizza_category  \\\n",
       "0        13.25        13.25          M        Classic   \n",
       "1        16.00        16.00          M        Classic   \n",
       "2        18.50        18.50          L         Veggie   \n",
       "3        20.75        20.75          L        Supreme   \n",
       "4        16.00        16.00          M         Veggie   \n",
       "5        20.75        20.75          L        Chicken   \n",
       "6        16.50        16.50          M        Supreme   \n",
       "7        20.75        20.75          L        Supreme   \n",
       "8        16.50        16.50          M        Supreme   \n",
       "9        16.50        16.50          M        Supreme   \n",
       "10       12.75        12.75          S        Chicken   \n",
       "11       12.00        12.00          S        Classic   \n",
       "12       12.50        12.50          S        Supreme   \n",
       "13       12.50        12.50          S        Supreme   \n",
       "14       12.00        12.00          S        Classic   \n",
       "\n",
       "                                    pizza_ingredients  \\\n",
       "0            Sliced Ham, Pineapple, Mozzarella Cheese   \n",
       "1   Pepperoni, Mushrooms, Red Onions, Red Peppers,...   \n",
       "2   Mozzarella Cheese, Provolone Cheese, Smoked Go...   \n",
       "3   Calabrese Salami, Capocollo, Tomatoes, Red Oni...   \n",
       "4   Tomatoes, Red Peppers, Jalapeno Peppers, Red O...   \n",
       "5   Chicken, Pineapple, Tomatoes, Red Peppers, Tha...   \n",
       "6   Calabrese Salami, Capocollo, Tomatoes, Red Oni...   \n",
       "7   Prosciutto di San Daniele, Arugula, Mozzarella...   \n",
       "8   Calabrese Salami, Capocollo, Tomatoes, Red Oni...   \n",
       "9   Calabrese Salami, Capocollo, Tomatoes, Red Oni...   \n",
       "10  Barbecued Chicken, Red Peppers, Green Peppers,...   \n",
       "11  Kalamata Olives, Feta Cheese, Tomatoes, Garlic...   \n",
       "12  Spinach, Red Onions, Pepperoni, Tomatoes, Arti...   \n",
       "13  Spinach, Red Onions, Pepperoni, Tomatoes, Arti...   \n",
       "14  Pepperoni, Mushrooms, Red Onions, Red Peppers,...   \n",
       "\n",
       "                          pizza_name  \n",
       "0                 The Hawaiian Pizza  \n",
       "1           The Classic Deluxe Pizza  \n",
       "2              The Five Cheese Pizza  \n",
       "3          The Italian Supreme Pizza  \n",
       "4                 The Mexicana Pizza  \n",
       "5             The Thai Chicken Pizza  \n",
       "6          The Italian Supreme Pizza  \n",
       "7   The Prosciutto and Arugula Pizza  \n",
       "8          The Italian Supreme Pizza  \n",
       "9          The Italian Supreme Pizza  \n",
       "10        The Barbecue Chicken Pizza  \n",
       "11                   The Greek Pizza  \n",
       "12         The Spinach Supreme Pizza  \n",
       "13         The Spinach Supreme Pizza  \n",
       "14          The Classic Deluxe Pizza  "
      ]
     },
     "execution_count": 3,
     "metadata": {},
     "output_type": "execute_result"
    }
   ],
   "source": [
    "df.head(15\n",
    "        )"
   ]
  },
  {
   "cell_type": "code",
   "execution_count": 4,
   "metadata": {},
   "outputs": [
    {
     "name": "stdout",
     "output_type": "stream",
     "text": [
      "817860.05\n"
     ]
    }
   ],
   "source": [
    "Total_revenue = df['total_price'].sum()\n",
    "print(Total_revenue)"
   ]
  },
  {
   "cell_type": "code",
   "execution_count": 5,
   "metadata": {},
   "outputs": [
    {
     "name": "stdout",
     "output_type": "stream",
     "text": [
      "38.30726229508197\n"
     ]
    }
   ],
   "source": [
    "orders_count = df['order_id'].nunique()\n",
    "avg_revenue_per_order = Total_revenue / orders_count\n",
    "print(avg_revenue_per_order)"
   ]
  },
  {
   "cell_type": "code",
   "execution_count": 6,
   "metadata": {},
   "outputs": [
    {
     "name": "stdout",
     "output_type": "stream",
     "text": [
      "49574\n"
     ]
    }
   ],
   "source": [
    "total_pizza_sold = df['quantity'].sum()\n",
    "print(total_pizza_sold)"
   ]
  },
  {
   "cell_type": "code",
   "execution_count": 7,
   "metadata": {},
   "outputs": [
    {
     "name": "stdout",
     "output_type": "stream",
     "text": [
      "21350\n"
     ]
    }
   ],
   "source": [
    "total_orders = df['order_id'].nunique()\n",
    "print(total_orders)"
   ]
  },
  {
   "cell_type": "code",
   "execution_count": 8,
   "metadata": {},
   "outputs": [
    {
     "name": "stdout",
     "output_type": "stream",
     "text": [
      "2.321967213114754\n"
     ]
    }
   ],
   "source": [
    "avg_pizza_per_order = total_pizza_sold / total_orders\n",
    "print(avg_pizza_per_order)"
   ]
  },
  {
   "cell_type": "code",
   "execution_count": 9,
   "metadata": {},
   "outputs": [],
   "source": [
    "df['order_date'] = pd.to_datetime(df['order_date'], dayfirst=True, errors='coerce')\n",
    "df['day_name'] = df['order_date'].dt.day_name()"
   ]
  },
  {
   "cell_type": "code",
   "execution_count": 10,
   "metadata": {},
   "outputs": [
    {
     "name": "stdout",
     "output_type": "stream",
     "text": [
      "day_name\n",
      "Friday       3538\n",
      "Monday       2794\n",
      "Saturday     3158\n",
      "Sunday       2624\n",
      "Thursday     3239\n",
      "Tuesday      2973\n",
      "Wednesday    3024\n",
      "Name: order_id, dtype: int64\n"
     ]
    }
   ],
   "source": [
    "total_orders_per_days = df.groupby('day_name')['order_id'].nunique()\n",
    "print(total_orders_per_days)"
   ]
  },
  {
   "cell_type": "code",
   "execution_count": 11,
   "metadata": {},
   "outputs": [
    {
     "name": "stderr",
     "output_type": "stream",
     "text": [
      "C:\\Users\\arzag\\AppData\\Local\\Temp\\ipykernel_2640\\2837759060.py:1: UserWarning: Could not infer format, so each element will be parsed individually, falling back to `dateutil`. To ensure parsing is consistent and as-expected, please specify a format.\n",
      "  df['order_time'] = pd.to_datetime(df['order_time'], dayfirst=True, errors='coerce')\n"
     ]
    }
   ],
   "source": [
    "df['order_time'] = pd.to_datetime(df['order_time'], dayfirst=True, errors='coerce')\n",
    "df['Hours'] = df['order_time'].dt.hour"
   ]
  },
  {
   "cell_type": "code",
   "execution_count": 12,
   "metadata": {},
   "outputs": [
    {
     "data": {
      "text/html": [
       "<div>\n",
       "<style scoped>\n",
       "    .dataframe tbody tr th:only-of-type {\n",
       "        vertical-align: middle;\n",
       "    }\n",
       "\n",
       "    .dataframe tbody tr th {\n",
       "        vertical-align: top;\n",
       "    }\n",
       "\n",
       "    .dataframe thead th {\n",
       "        text-align: right;\n",
       "    }\n",
       "</style>\n",
       "<table border=\"1\" class=\"dataframe\">\n",
       "  <thead>\n",
       "    <tr style=\"text-align: right;\">\n",
       "      <th></th>\n",
       "      <th>pizza_id</th>\n",
       "      <th>order_id</th>\n",
       "      <th>pizza_name_id</th>\n",
       "      <th>quantity</th>\n",
       "      <th>order_date</th>\n",
       "      <th>order_time</th>\n",
       "      <th>unit_price</th>\n",
       "      <th>total_price</th>\n",
       "      <th>pizza_size</th>\n",
       "      <th>pizza_category</th>\n",
       "      <th>pizza_ingredients</th>\n",
       "      <th>pizza_name</th>\n",
       "      <th>day_name</th>\n",
       "      <th>Hours</th>\n",
       "    </tr>\n",
       "  </thead>\n",
       "  <tbody>\n",
       "    <tr>\n",
       "      <th>0</th>\n",
       "      <td>1</td>\n",
       "      <td>1</td>\n",
       "      <td>hawaiian_m</td>\n",
       "      <td>1</td>\n",
       "      <td>2015-01-01</td>\n",
       "      <td>2025-01-28 11:38:36</td>\n",
       "      <td>13.25</td>\n",
       "      <td>13.25</td>\n",
       "      <td>M</td>\n",
       "      <td>Classic</td>\n",
       "      <td>Sliced Ham, Pineapple, Mozzarella Cheese</td>\n",
       "      <td>The Hawaiian Pizza</td>\n",
       "      <td>Thursday</td>\n",
       "      <td>11</td>\n",
       "    </tr>\n",
       "    <tr>\n",
       "      <th>1</th>\n",
       "      <td>2</td>\n",
       "      <td>2</td>\n",
       "      <td>classic_dlx_m</td>\n",
       "      <td>1</td>\n",
       "      <td>2015-01-01</td>\n",
       "      <td>2025-01-28 11:57:40</td>\n",
       "      <td>16.00</td>\n",
       "      <td>16.00</td>\n",
       "      <td>M</td>\n",
       "      <td>Classic</td>\n",
       "      <td>Pepperoni, Mushrooms, Red Onions, Red Peppers,...</td>\n",
       "      <td>The Classic Deluxe Pizza</td>\n",
       "      <td>Thursday</td>\n",
       "      <td>11</td>\n",
       "    </tr>\n",
       "    <tr>\n",
       "      <th>2</th>\n",
       "      <td>3</td>\n",
       "      <td>2</td>\n",
       "      <td>five_cheese_l</td>\n",
       "      <td>1</td>\n",
       "      <td>2015-01-01</td>\n",
       "      <td>2025-01-28 11:57:40</td>\n",
       "      <td>18.50</td>\n",
       "      <td>18.50</td>\n",
       "      <td>L</td>\n",
       "      <td>Veggie</td>\n",
       "      <td>Mozzarella Cheese, Provolone Cheese, Smoked Go...</td>\n",
       "      <td>The Five Cheese Pizza</td>\n",
       "      <td>Thursday</td>\n",
       "      <td>11</td>\n",
       "    </tr>\n",
       "    <tr>\n",
       "      <th>3</th>\n",
       "      <td>4</td>\n",
       "      <td>2</td>\n",
       "      <td>ital_supr_l</td>\n",
       "      <td>1</td>\n",
       "      <td>2015-01-01</td>\n",
       "      <td>2025-01-28 11:57:40</td>\n",
       "      <td>20.75</td>\n",
       "      <td>20.75</td>\n",
       "      <td>L</td>\n",
       "      <td>Supreme</td>\n",
       "      <td>Calabrese Salami, Capocollo, Tomatoes, Red Oni...</td>\n",
       "      <td>The Italian Supreme Pizza</td>\n",
       "      <td>Thursday</td>\n",
       "      <td>11</td>\n",
       "    </tr>\n",
       "    <tr>\n",
       "      <th>4</th>\n",
       "      <td>5</td>\n",
       "      <td>2</td>\n",
       "      <td>mexicana_m</td>\n",
       "      <td>1</td>\n",
       "      <td>2015-01-01</td>\n",
       "      <td>2025-01-28 11:57:40</td>\n",
       "      <td>16.00</td>\n",
       "      <td>16.00</td>\n",
       "      <td>M</td>\n",
       "      <td>Veggie</td>\n",
       "      <td>Tomatoes, Red Peppers, Jalapeno Peppers, Red O...</td>\n",
       "      <td>The Mexicana Pizza</td>\n",
       "      <td>Thursday</td>\n",
       "      <td>11</td>\n",
       "    </tr>\n",
       "  </tbody>\n",
       "</table>\n",
       "</div>"
      ],
      "text/plain": [
       "   pizza_id  order_id  pizza_name_id  quantity order_date          order_time  \\\n",
       "0         1         1     hawaiian_m         1 2015-01-01 2025-01-28 11:38:36   \n",
       "1         2         2  classic_dlx_m         1 2015-01-01 2025-01-28 11:57:40   \n",
       "2         3         2  five_cheese_l         1 2015-01-01 2025-01-28 11:57:40   \n",
       "3         4         2    ital_supr_l         1 2015-01-01 2025-01-28 11:57:40   \n",
       "4         5         2     mexicana_m         1 2015-01-01 2025-01-28 11:57:40   \n",
       "\n",
       "   unit_price  total_price pizza_size pizza_category  \\\n",
       "0       13.25        13.25          M        Classic   \n",
       "1       16.00        16.00          M        Classic   \n",
       "2       18.50        18.50          L         Veggie   \n",
       "3       20.75        20.75          L        Supreme   \n",
       "4       16.00        16.00          M         Veggie   \n",
       "\n",
       "                                   pizza_ingredients  \\\n",
       "0           Sliced Ham, Pineapple, Mozzarella Cheese   \n",
       "1  Pepperoni, Mushrooms, Red Onions, Red Peppers,...   \n",
       "2  Mozzarella Cheese, Provolone Cheese, Smoked Go...   \n",
       "3  Calabrese Salami, Capocollo, Tomatoes, Red Oni...   \n",
       "4  Tomatoes, Red Peppers, Jalapeno Peppers, Red O...   \n",
       "\n",
       "                  pizza_name  day_name  Hours  \n",
       "0         The Hawaiian Pizza  Thursday     11  \n",
       "1   The Classic Deluxe Pizza  Thursday     11  \n",
       "2      The Five Cheese Pizza  Thursday     11  \n",
       "3  The Italian Supreme Pizza  Thursday     11  \n",
       "4         The Mexicana Pizza  Thursday     11  "
      ]
     },
     "execution_count": 12,
     "metadata": {},
     "output_type": "execute_result"
    }
   ],
   "source": [
    "df.head()"
   ]
  },
  {
   "cell_type": "code",
   "execution_count": 13,
   "metadata": {},
   "outputs": [
    {
     "name": "stdout",
     "output_type": "stream",
     "text": [
      "Hours\n",
      "9        1\n",
      "10       8\n",
      "11    1231\n",
      "12    2520\n",
      "13    2455\n",
      "14    1472\n",
      "15    1468\n",
      "16    1920\n",
      "17    2336\n",
      "18    2399\n",
      "19    2009\n",
      "20    1642\n",
      "21    1198\n",
      "22     663\n",
      "23      28\n",
      "Name: order_id, dtype: int64\n"
     ]
    }
   ],
   "source": [
    "total_orders_per_hours = df.groupby('Hours')['order_id'].nunique()\n",
    "print(total_orders_per_hours)"
   ]
  },
  {
   "cell_type": "code",
   "execution_count": 17,
   "metadata": {},
   "outputs": [
    {
     "name": "stdout",
     "output_type": "stream",
     "text": [
      "pizza_category\n",
      "Chicken    195919.50\n",
      "Classic    220053.10\n",
      "Supreme    208197.00\n",
      "Veggie     193690.45\n",
      "Name: total_price, dtype: float64\n",
      "pizza_category\n",
      "Chicken    23.955138\n",
      "Classic    26.905960\n",
      "Supreme    25.456311\n",
      "Veggie     23.682591\n",
      "Name: total_price, dtype: float64\n"
     ]
    }
   ],
   "source": [
    "total_sales_per_category = df.groupby('pizza_category')['total_price'].sum()\n",
    "ptc = total_sales_per_category * 100 / Total_revenue\n",
    "print(total_sales_per_category)\n",
    "print(ptc)"
   ]
  },
  {
   "cell_type": "code",
   "execution_count": 18,
   "metadata": {},
   "outputs": [
    {
     "name": "stdout",
     "output_type": "stream",
     "text": [
      "pizza_size\n",
      "L      375318.70\n",
      "M      249382.25\n",
      "S      178076.50\n",
      "XL      14076.00\n",
      "XXL      1006.60\n",
      "Name: total_price, dtype: float64\n",
      "pizza_size\n",
      "L      45.890333\n",
      "M      30.492044\n",
      "S      21.773468\n",
      "XL      1.721077\n",
      "XXL     0.123077\n",
      "Name: total_price, dtype: float64\n"
     ]
    }
   ],
   "source": [
    "total_sales_per_pizza_size = df.groupby('pizza_size')['total_price'].sum()\n",
    "ptc = total_sales_per_pizza_size * 100 / Total_revenue\n",
    "print(total_sales_per_pizza_size)\n",
    "print(ptc)"
   ]
  },
  {
   "cell_type": "code",
   "execution_count": 16,
   "metadata": {},
   "outputs": [
    {
     "name": "stdout",
     "output_type": "stream",
     "text": [
      "pizza_category\n",
      "Chicken    11050\n",
      "Classic    14888\n",
      "Supreme    11987\n",
      "Veggie     11649\n",
      "Name: quantity, dtype: int64\n",
      "pizza_category\n",
      "Chicken    1.351087\n",
      "Classic    1.820360\n",
      "Supreme    1.465654\n",
      "Veggie     1.424327\n",
      "Name: quantity, dtype: float64\n"
     ]
    }
   ],
   "source": [
    "total_quantity_sold_per_category = df.groupby('pizza_category')['quantity'].sum()\n",
    "ptc = total_quantity_sold_per_category * 100 / Total_revenue\n",
    "print(total_quantity_sold_per_category)\n",
    "print(ptc)"
   ]
  },
  {
   "cell_type": "code",
   "execution_count": 17,
   "metadata": {},
   "outputs": [
    {
     "name": "stdout",
     "output_type": "stream",
     "text": [
      "pizza_size\n",
      "L      18956\n",
      "M      15635\n",
      "S      14403\n",
      "XL       552\n",
      "XXL       28\n",
      "Name: quantity, dtype: int64\n",
      "pizza_size\n",
      "L      2.317756\n",
      "M      1.911696\n",
      "S      1.761059\n",
      "XL     0.067493\n",
      "XXL    0.003424\n",
      "Name: quantity, dtype: float64\n"
     ]
    }
   ],
   "source": [
    "total_quantity_sold_per_pizza_size = df.groupby('pizza_size')['quantity'].sum()\n",
    "ptc = total_quantity_sold_per_pizza_size * 100 / Total_revenue\n",
    "print(total_quantity_sold_per_pizza_size)\n",
    "print(ptc)"
   ]
  },
  {
   "cell_type": "code",
   "execution_count": 26,
   "metadata": {},
   "outputs": [
    {
     "name": "stdout",
     "output_type": "stream",
     "text": [
      "pizza_name\n",
      "The Classic Deluxe Pizza      2453\n",
      "The Barbecue Chicken Pizza    2432\n",
      "The Hawaiian Pizza            2422\n",
      "The Pepperoni Pizza           2418\n",
      "The Thai Chicken Pizza        2371\n",
      "Name: quantity, dtype: int64\n"
     ]
    }
   ],
   "source": [
    "top_5_pizza_per_sales = df.groupby('pizza_name')['quantity'].sum().sort_values(ascending=False)\n",
    "print(top_5_pizza_per_sales.head(5))"
   ]
  },
  {
   "cell_type": "code",
   "execution_count": 27,
   "metadata": {},
   "outputs": [
    {
     "name": "stdout",
     "output_type": "stream",
     "text": [
      "pizza_name\n",
      "The Brie Carre Pizza         490\n",
      "The Mediterranean Pizza      934\n",
      "The Calabrese Pizza          937\n",
      "The Spinach Supreme Pizza    950\n",
      "The Soppressata Pizza        961\n",
      "Name: quantity, dtype: int64\n"
     ]
    }
   ],
   "source": [
    "top_5_pizza_per_sales = df.groupby('pizza_name')['quantity'].sum().sort_values(ascending=True)\n",
    "print(top_5_pizza_per_sales.head(5))"
   ]
  },
  {
   "cell_type": "code",
   "execution_count": null,
   "metadata": {},
   "outputs": [],
   "source": []
  }
 ],
 "metadata": {
  "kernelspec": {
   "display_name": "base",
   "language": "python",
   "name": "python3"
  },
  "language_info": {
   "codemirror_mode": {
    "name": "ipython",
    "version": 3
   },
   "file_extension": ".py",
   "mimetype": "text/x-python",
   "name": "python",
   "nbconvert_exporter": "python",
   "pygments_lexer": "ipython3",
   "version": "3.12.7"
  }
 },
 "nbformat": 4,
 "nbformat_minor": 2
}
